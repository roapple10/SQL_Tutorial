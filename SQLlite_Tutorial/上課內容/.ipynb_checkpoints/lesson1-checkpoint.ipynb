{
 "cells": [
  {
   "cell_type": "code",
   "execution_count": 1,
   "id": "b5fbcbd0-5e24-4337-b4ad-9cbd75577a8d",
   "metadata": {},
   "outputs": [
    {
     "name": "stdout",
     "output_type": "stream",
     "text": [
      "Hello! World!\n"
     ]
    }
   ],
   "source": [
    "print(\"Hello! World!\")"
   ]
  },
  {
   "cell_type": "code",
   "execution_count": 4,
   "id": "0becc023-ed3d-4262-b4f3-9f335f212f69",
   "metadata": {},
   "outputs": [
    {
     "name": "stdout",
     "output_type": "stream",
     "text": [
      "Defaulting to user installation because normal site-packages is not writeable\n",
      "Collecting pymssql\n",
      "  Downloading pymssql-2.2.8-cp310-cp310-manylinux_2_28_x86_64.whl (4.4 MB)\n",
      "\u001b[2K     \u001b[38;2;114;156;31m━━━━━━━━━━━━━━━━━━━━━━━━━━━━━━━━━━━━━━━━\u001b[0m \u001b[32m4.4/4.4 MB\u001b[0m \u001b[31m1.5 MB/s\u001b[0m eta \u001b[36m0:00:00\u001b[0mm eta \u001b[36m0:00:01\u001b[0m0:01\u001b[0m:01\u001b[0m0m\n",
      "\u001b[?25hInstalling collected packages: pymssql\n",
      "Successfully installed pymssql-2.2.8\n",
      "\n",
      "\u001b[1m[\u001b[0m\u001b[34;49mnotice\u001b[0m\u001b[1;39;49m]\u001b[0m\u001b[39;49m A new release of pip is available: \u001b[0m\u001b[31;49m23.0.1\u001b[0m\u001b[39;49m -> \u001b[0m\u001b[32;49m23.2.1\u001b[0m\n",
      "\u001b[1m[\u001b[0m\u001b[34;49mnotice\u001b[0m\u001b[1;39;49m]\u001b[0m\u001b[39;49m To update, run: \u001b[0m\u001b[32;49mpip install --upgrade pip\u001b[0m\n"
     ]
    }
   ],
   "source": [
    " !pip install pymssql\n"
   ]
  },
  {
   "cell_type": "code",
   "execution_count": 5,
   "id": "aa722182-327b-4de3-82db-faf827a7b529",
   "metadata": {},
   "outputs": [],
   "source": [
    "from os import getenv\n",
    "import pymssql"
   ]
  },
  {
   "cell_type": "code",
   "execution_count": 6,
   "id": "1173626a-781a-4fb0-a0a2-3de438d0af7a",
   "metadata": {},
   "outputs": [],
   "source": [
    "import sqlite3"
   ]
  },
  {
   "cell_type": "code",
   "execution_count": 7,
   "id": "ce176868-9239-486e-ad7b-ad312c3c1ff0",
   "metadata": {},
   "outputs": [
    {
     "name": "stdout",
     "output_type": "stream",
     "text": [
      "total 292\n",
      "drwxr-xr-x  5 vscode vscode    160 Aug 16 08:36 .\n",
      "drwxr-xr-x 17 root   root      544 Aug 16 08:15 ..\n",
      "drwxr-xr-x  3 vscode vscode     96 Aug 16 08:16 .ipynb_checkpoints\n",
      "-rw-r--r--  1 vscode vscode   2659 Aug 16 08:31 lesson1.ipynb\n",
      "-rw-r--r--  1 vscode vscode 294912 Aug 16 08:36 sqlite.db\n"
     ]
    }
   ],
   "source": [
    "!ls -al"
   ]
  },
  {
   "cell_type": "code",
   "execution_count": 8,
   "id": "9a23ae1c-c556-400e-83a7-3a5971e38c79",
   "metadata": {},
   "outputs": [
    {
     "name": "stdout",
     "output_type": "stream",
     "text": [
      "連線成功\n",
      "關閉連線\n"
     ]
    }
   ],
   "source": [
    "import sqlite3\n",
    "from sqlite3 import Error\n",
    "\n",
    "def create_connection(db_file):\n",
    "    conn = None\n",
    "    try:\n",
    "        conn = sqlite3.connect(db_file)\n",
    "    except Error as e:\n",
    "        print(e)\n",
    "\n",
    "    return conn\n",
    "def select_all_tasks(conn):\n",
    "    sql = \"SELECT * FROM invoices\"\n",
    "    cursor = conn.cursor()\n",
    "    cursor.execute(sql)\n",
    "    rows = cursor.fetchall()\n",
    "    return rows\n",
    "\n",
    "conn = create_connection('sqlite.db')\n",
    "if conn is not None:\n",
    "    print(\"連線成功\")\n",
    "    rows = select_all_tasks(conn)\n",
    "    print(rows)\n",
    "    conn.close()\n",
    "    print(\"關閉連線\")"
   ]
  },
  {
   "cell_type": "code",
   "execution_count": null,
   "id": "8918ac18-d5fe-4e85-834e-348d85574d2a",
   "metadata": {},
   "outputs": [],
   "source": []
  }
 ],
 "metadata": {
  "kernelspec": {
   "display_name": "Python 3 (ipykernel)",
   "language": "python",
   "name": "python3"
  },
  "language_info": {
   "codemirror_mode": {
    "name": "ipython",
    "version": 3
   },
   "file_extension": ".py",
   "mimetype": "text/x-python",
   "name": "python",
   "nbconvert_exporter": "python",
   "pygments_lexer": "ipython3",
   "version": "3.10.12"
  }
 },
 "nbformat": 4,
 "nbformat_minor": 5
}
