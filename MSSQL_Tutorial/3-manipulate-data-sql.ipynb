{
 "cells": [
  {
   "cell_type": "markdown",
   "metadata": {},
   "source": [
    "# Manipulate data in Azure SQL Database using Python and Jupyter Notebook"
   ]
  },
  {
   "cell_type": "markdown",
   "metadata": {},
   "source": [
    "## Import the library"
   ]
  },
  {
   "cell_type": "code",
   "execution_count": 1,
   "metadata": {},
   "outputs": [],
   "source": [
    "import pyodbc"
   ]
  },
  {
   "cell_type": "markdown",
   "metadata": {},
   "source": [
    "## Open the connection"
   ]
  },
  {
   "cell_type": "code",
   "execution_count": 2,
   "metadata": {},
   "outputs": [
    {
     "name": "stdout",
     "output_type": "stream",
     "text": [
      "<pyodbc.Connection object at 0x00000250BD966E80>\n"
     ]
    }
   ],
   "source": [
    "import pyodbc\n",
    "\n",
    "DRIVER_NAME = 'ODBC Driver 17 for SQL Server'\n",
    "SERVER_NAME = r'LAPTOP-D1GHCN4R\\POWERBIREPORT'\n",
    "DATABASE_NAME = 'AdventureWorksLT2014'\n",
    "USERNAME = 'pbi'\n",
    "PASSWORD = '123'\n",
    "\n",
    "connection_string = f\"\"\"\n",
    "DRIVER={{{DRIVER_NAME}}};\n",
    "SERVER={SERVER_NAME};\n",
    "DATABASE={DATABASE_NAME};\n",
    "UID={USERNAME};\n",
    "PWD={PASSWORD};\n",
    "\"\"\"\n",
    "\n",
    "conn = pyodbc.connect(connection_string)\n",
    "print(conn)"
   ]
  },
  {
   "cell_type": "markdown",
   "metadata": {},
   "source": [
    "## Create a cursor object"
   ]
  },
  {
   "cell_type": "code",
   "execution_count": 3,
   "metadata": {},
   "outputs": [],
   "source": [
    "cursor = conn.cursor()"
   ]
  },
  {
   "cell_type": "markdown",
   "metadata": {},
   "source": [
    "## Insert a new movie"
   ]
  },
  {
   "cell_type": "code",
   "execution_count": 4,
   "metadata": {},
   "outputs": [
    {
     "data": {
      "text/plain": [
       "<pyodbc.Cursor at 0x250bd9583b0>"
      ]
     },
     "execution_count": 4,
     "metadata": {},
     "output_type": "execute_result"
    }
   ],
   "source": [
    "cursor.execute(\"INSERT INTO [dbo].[movies] \"\n",
    "    \"(movie_title, released_year, runtime, genre, rating, director, \"\n",
    "    \"star1, star2, number_of_votes, gross) \"\n",
    "    \"VALUES (?, ?, ?, ?, ?, ?, ?, ?, ?, ?)\", \n",
    "    (\"The Imitation Game\", 2014, 114, \"Biography\", 80, \n",
    "    \"Morten Tyldum\", \"Benedict Cumberbatch\", \"Keira Knightley\", \n",
    "    685201, 91125683))"
   ]
  },
  {
   "cell_type": "markdown",
   "metadata": {},
   "source": [
    "## Commit the changes"
   ]
  },
  {
   "cell_type": "code",
   "execution_count": 5,
   "metadata": {},
   "outputs": [],
   "source": [
    "conn.commit()"
   ]
  },
  {
   "cell_type": "markdown",
   "metadata": {},
   "source": [
    "## Read data"
   ]
  },
  {
   "cell_type": "code",
   "execution_count": 6,
   "metadata": {},
   "outputs": [
    {
     "name": "stdout",
     "output_type": "stream",
     "text": [
      "(1, 'The Dark Knight', 'Christopher Nolan')\n",
      "(2, 'The Lord of the Rings: The Return of the King', 'Peter Jackson')\n",
      "(3, 'Inception', 'Christopher Nolan')\n",
      "(4, 'The Lord of the Rings: The Fellowship of the Ring', 'Peter Jackson')\n",
      "(5, 'The Lord of the Rings: The Two Towers', 'Peter Jackson')\n",
      "(6, 'Interstellar', 'Christopher Nolan')\n",
      "(7, 'Joker', 'Todd Phillips')\n",
      "(8, 'Whiplash', 'Damien Chazelle')\n",
      "(9, 'The Intouchables', 'Olivier Nakache')\n",
      "(10, 'The Prestige', 'Christopher Nolan')\n",
      "(11, 'The Departed', 'Martin Scorsese')\n",
      "(12, 'The Pianist', 'Roman Polanski')\n",
      "(13, 'Gladiator', 'Ridley Scott')\n",
      "(14, 'Spider-Man: Into the Spider-Verse', 'Bob Persichetti')\n",
      "(15, 'Avengers: Endgame', 'Anthony Russo')\n",
      "(16, 'Avengers: Infinity War', 'Anthony Russo')\n",
      "(17, 'Coco', 'Lee Unkrich')\n",
      "(18, 'Django Unchained', 'Quentin Tarantino')\n",
      "(19, 'The Dark Knight Rises', 'Christopher Nolan')\n",
      "(20, '3 Idiots', 'Rajkumar Hirani')\n",
      "(21, 'Taare Zameen Par', 'Aamir Khan')\n",
      "(22, 'WALL·E', 'Andrew Stanton')\n",
      "(23, 'The Lives of Others', 'Florian Henckel von Donnersmarck')\n",
      "(24, 'Memento', 'Christopher Nolan')\n",
      "(25, '1917', 'Sam Mendes')\n",
      "(26, 'Amelie', 'Jean-Pierre Jeunet')\n",
      "(27, 'Snatch', 'Guy Ritchie')\n",
      "(28, 'Requiem for a Dream', 'Darren Aronofsky')\n",
      "(29, 'Green Book', 'Peter Farrelly')\n",
      "(30, 'Drishyam', 'Nishikant Kamat')\n",
      "(31, 'Queen', 'Vikas Bahl')\n",
      "(32, 'Warrior', \"Gavin O'Connor\")\n",
      "(33, 'Shutter Island', 'Martin Scorsese')\n",
      "(34, 'Up', 'Pete Docter')\n",
      "(35, 'The Wolf of Wall Street', 'Martin Scorsese')\n",
      "(36, 'Chak De! India', 'Shimit Amin')\n",
      "(37, 'There Will Be Blood', 'Paul Thomas Anderson')\n",
      "(38, \"Pan's Labyrinth\", 'Guillermo del Toro')\n",
      "(39, 'Toy Story 3', 'Lee Unkrich')\n",
      "(40, 'V for Vendetta', 'James McTeigue')\n",
      "(41, 'Rang De Basanti', 'Rakeysh Omprakash Mehra')\n",
      "(42, 'Black', 'Sanjay Leela Bhansali')\n",
      "(43, 'Batman Begins', 'Christopher Nolan')\n",
      "(44, 'Swades: We, the People', 'Ashutosh Gowariker')\n",
      "(45, 'Der Untergang', 'Oliver Hirschbiegel')\n",
      "(46, 'Hauru no ugoku shiro', 'Hayao Miyazaki')\n",
      "(47, 'A Beautiful Mind', 'Ron Howard')\n",
      "(48, 'Mommy', 'Xavier Dolan')\n",
      "(49, 'Haider', 'Vishal Bhardwaj')\n",
      "(50, 'Logan', 'James Mangold')\n",
      "(51, 'Room', 'Lenny Abrahamson')\n",
      "(52, 'PK', 'Rajkumar Hirani')\n",
      "(53, 'OMG: Oh My God!', 'Umesh Shukla')\n",
      "(54, 'The Grand Budapest Hotel', 'Wes Anderson')\n",
      "(55, 'Gone Girl', 'David Fincher')\n",
      "(56, 'Inside Out', 'Pete Docter')\n",
      "(57, 'Barfi!', 'Anurag Basu')\n",
      "(58, '12 Years a Slave', 'Steve McQueen')\n",
      "(59, 'Rush', 'Ron Howard')\n",
      "(60, 'Ford v Ferrari', 'James Mangold')\n",
      "(61, 'Spotlight', 'Tom McCarthy')\n",
      "(62, 'Song of the Sea', 'Tomm Moore')\n",
      "(63, 'Prisoners', 'Denis Villeneuve')\n",
      "(64, 'Mad Max: Fury Road', 'George Miller')\n",
      "(65, 'Gran Torino', 'Clint Eastwood')\n",
      "(66, 'Harry Potter and the Deathly Hallows: Part 2', 'David Yates')\n",
      "(67, 'How to Train Your Dragon', 'Dean DeBlois')\n",
      "(68, 'Into the Wild', 'Sean Penn')\n",
      "(69, 'No Country for Old Men', 'Ethan Coen')\n",
      "(70, 'Lage Raho Munna Bhai', 'Rajkumar Hirani')\n",
      "(71, 'Million Dollar Baby', 'Clint Eastwood')\n",
      "(72, 'Finding Nemo', 'Andrew Stanton')\n",
      "(73, 'Catch Me If You Can', 'Steven Spielberg')\n",
      "(74, 'Monsters, Inc.', 'Pete Docter')\n",
      "(75, 'Lagaan: Once Upon a Time in India', 'Ashutosh Gowariker')\n",
      "(76, 'La La Land', 'Damien Chazelle')\n",
      "(77, 'Lion', 'Garth Davis')\n",
      "(78, 'The Martian', 'Ridley Scott')\n",
      "(79, 'Wonder', 'Stephen Chbosky')\n",
      "(80, 'Gully Boy', 'Zoya Akhtar')\n",
      "(81, 'Special Chabbis', 'Neeraj Pandey')\n",
      "(82, 'Short Term 12', 'Destin Daniel Cretton')\n",
      "(83, 'Serbuan maut 2: Berandal', 'Gareth Evans')\n",
      "(84, 'Guardians of the Galaxy', 'James Gunn')\n",
      "(85, 'Blade Runner 2049', 'Denis Villeneuve')\n",
      "(86, 'Her', 'Spike Jonze')\n",
      "(87, 'Bohemian Rhapsody', 'Bryan Singer')\n",
      "(88, 'The Perks of Being a Wallflower', 'Stephen Chbosky')\n",
      "(89, \"The King's Speech\", 'Tom Hooper')\n",
      "(90, 'The Help', 'Tate Taylor')\n",
      "(91, 'Deadpool', 'Tim Miller')\n",
      "(92, 'Darbareye Elly', 'Asghar Farhadi')\n",
      "(93, 'Dev.D', 'Anurag Kashyap')\n",
      "(94, 'My Name Is Khan', 'Karan Johar')\n",
      "(95, 'Slumdog Millionaire', 'Danny Boyle')\n",
      "(96, 'Black Swan', 'Darren Aronofsky')\n",
      "(97, 'The Avengers', 'Joss Whedon')\n",
      "(98, 'Persepolis', 'Vincent Paronnaud')\n",
      "(99, 'The Pursuit of Happyness', 'Gabriele Muccino')\n",
      "(100, 'Blood Diamond', 'Edward Zwick')\n",
      "(101, 'Sin City', 'Frank Miller')\n",
      "(102, 'Le scaphandre et le papillon', 'Julian Schnabel')\n",
      "(103, 'Ratatouille', 'Brad Bird')\n",
      "(104, 'Casino Royale', 'Martin Campbell')\n",
      "(105, 'Pirates of the Caribbean: The Curse of the Black Pearl', 'Gore Verbinski')\n",
      "(106, 'Big Fish', 'Tim Burton')\n",
      "(107, 'The Incredibles', 'Brad Bird')\n",
      "(108, 'Dogville', 'Lars von Trier')\n",
      "(109, 'Donnie Darko', 'Richard Kelly')\n",
      "(110, 'Knives Out', 'Rian Johnson')\n",
      "(111, 'Marriage Story', 'Noah Baumbach')\n",
      "(112, 'Call Me by Your Name', 'Luca Guadagnino')\n",
      "(113, 'I, Daniel Blake', 'Ken Loach')\n",
      "(114, 'Isle of Dogs', 'Wes Anderson')\n",
      "(115, 'Hunt for the Wilderpeople', 'Taika Waititi')\n",
      "(116, 'Captain Fantastic', 'Matt Ross')\n",
      "(117, 'Sing Street', 'John Carney')\n",
      "(118, 'Thor: Ragnarok', 'Taika Waititi')\n",
      "(119, 'Nightcrawler', 'Dan Gilroy')\n",
      "(120, 'Jojo Rabbit', 'Taika Waititi')\n",
      "(121, 'Arrival', 'Denis Villeneuve')\n",
      "(122, 'Star Wars: Episode VII - The Force Awakens', 'J.J. Abrams')\n",
      "(123, 'Before Midnight', 'Richard Linklater')\n",
      "(124, 'X-Men: Days of Future Past', 'Bryan Singer')\n",
      "(125, \"Bir Zamanlar Anadolu'da\", 'Nuri Bilge Ceylan')\n",
      "(126, 'Edge of Tomorrow', 'Doug Liman')\n",
      "(127, 'Amour', 'Michael Haneke')\n",
      "(128, 'The Irishman', 'Martin Scorsese')\n",
      "(129, 'Moon', 'Duncan Jones')\n",
      "(130, 'The Wrestler', 'Darren Aronofsky')\n",
      "(131, 'Jab We Met', 'Imtiaz Ali')\n",
      "(132, 'Boyhood', 'Richard Linklater')\n",
      "(133, 'Star Trek', 'J.J. Abrams')\n",
      "(134, 'In Bruges', 'Martin McDonagh')\n",
      "(135, 'Letters from Iwo Jima', 'Clint Eastwood')\n",
      "(136, 'The Fall', 'Tarsem Singh')\n",
      "(137, 'Life of Pi', 'Ang Lee')\n",
      "(138, 'Fantastic Mr. Fox', 'Wes Anderson')\n",
      "(139, 'Iron Man', 'Jon Favreau')\n",
      "(140, 'Shaun of the Dead', 'Edgar Wright')\n",
      "(141, 'Mystic River', 'Clint Eastwood')\n",
      "(142, \"No Man's Land\", 'Danis Tanovic')\n",
      "(143, 'Almost Famous', 'Cameron Crowe')\n",
      "(144, 'Mulholland Dr.', 'David Lynch')\n",
      "(145, 'Forushande', 'Asghar Farhadi')\n",
      "(146, 'Hidden Figures', 'Theodore Melfi')\n",
      "(147, 'Paddington 2', 'Paul King')\n",
      "(148, 'Kubo and the Two Strings', 'Travis Knight')\n",
      "(149, 'M.S. Dhoni: The Untold Story', 'Neeraj Pandey')\n",
      "(150, 'Manchester by the Sea', 'Kenneth Lonergan')\n",
      "(151, 'Rogue One', 'Gareth Edwards')\n",
      "(152, 'Captain America: Civil War', 'Anthony Russo')\n",
      "(153, 'The Hateful Eight', 'Quentin Tarantino')\n",
      "(154, 'Little Women', 'Greta Gerwig')\n",
      "(155, 'Loving Vincent', 'Dorota Kobiela')\n",
      "(156, 'The Lunchbox', 'Ritesh Batra')\n",
      "(157, 'Vicky Donor', 'Shoojit Sircar')\n",
      "(158, 'Big Hero 6', 'Don Hall')\n",
      "(159, 'About Time', 'Richard Curtis')\n",
      "(160, 'English Vinglish', 'Gauri Shinde')\n",
      "(161, 'Kaze tachinu', 'Hayao Miyazaki')\n",
      "(162, 'Toy Story 4', 'Josh Cooley')\n",
      "(163, 'La migliore offerta', 'Giuseppe Tornatore')\n",
      "(164, 'Moonrise Kingdom', 'Wes Anderson')\n",
      "(165, 'How to Train Your Dragon 2', 'Dean DeBlois')\n",
      "(166, 'The Big Short', 'Adam McKay')\n",
      "(167, 'The Girl with the Dragon Tattoo', 'David Fincher')\n",
      "(168, 'Captain Phillips', 'Paul Greengrass')\n",
      "(169, 'The Hobbit: The Desolation of Smaug', 'Peter Jackson')\n",
      "(170, 'Das weiße Band - Eine deutsche Kindergeschichte', 'Michael Haneke')\n",
      "(171, 'Män som hatar kvinnor', 'Niels Arden Oplev')\n",
      "(172, 'The Fighter', 'David O. Russell')\n",
      "(173, 'Taken', 'Pierre Morel')\n",
      "(174, 'The Boy in the Striped Pyjamas', 'Mark Herman')\n",
      "(175, 'The Hobbit: An Unexpected Journey', 'Peter Jackson')\n",
      "(176, 'Atonement', 'Joe Wright')\n",
      "(177, 'Drive', 'Nicolas Winding Refn')\n",
      "(178, 'American Gangster', 'Ridley Scott')\n",
      "(179, 'Avatar', 'James Cameron')\n",
      "(180, 'Mr. Nobody', 'Jaco Van Dormael')\n",
      "(181, 'Apocalypto', 'Mel Gibson')\n",
      "(182, 'Little Miss Sunshine', 'Jonathan Dayton')\n",
      "(183, 'Hot Fuzz', 'Edgar Wright')\n",
      "(184, 'The Curious Case of Benjamin Button', 'David Fincher')\n",
      "(185, 'Pride & Prejudice', 'Joe Wright')\n",
      "(186, \"The World's Fastest Indian\", 'Roger Donaldson')\n",
      "(187, 'Serenity', 'Joss Whedon')\n",
      "(188, 'Walk the Line', 'James Mangold')\n",
      "(189, 'The Notebook', 'Nick Cassavetes')\n",
      "(190, 'Diarios de motocicleta', 'Walter Salles')\n",
      "(191, 'Lilja 4-ever', 'Lukas Moodysson')\n",
      "(192, 'Les triplettes de Belleville', 'Sylvain Chomet')\n",
      "(193, 'The Count of Monte Cristo', 'Kevin Reynolds')\n",
      "(194, 'Waking Life', 'Richard Linklater')\n",
      "(195, 'Remember the Titans', 'Boaz Yakin')\n",
      "(196, 'Wo hu cang long', 'Ang Lee')\n",
      "(197, 'Shrek', 'Andrew Adamson')\n",
      "(198, \"God's Own Country\", 'Francis Lee')\n",
      "(199, 'Deadpool 2', 'David Leitch')\n",
      "(200, 'Wind River', 'Taylor Sheridan')\n",
      "(201, 'Get Out', 'Jordan Peele')\n",
      "(202, 'Mission: Impossible - Fallout', 'Christopher McQuarrie')\n",
      "(203, 'En man som heter Ove', 'Hannes Holm')\n",
      "(204, 'What We Do in the Shadows', 'Jemaine Clement')\n",
      "(205, 'The Theory of Everything', 'James Marsh')\n",
      "(206, 'Kingsman: The Secret Service', 'Matthew Vaughn')\n",
      "(207, 'The Fault in Our Stars', 'Josh Boone')\n",
      "(208, 'Me and Earl and the Dying Girl', 'Alfonso Gomez-Rejon')\n",
      "(209, 'The Broken Circle Breakdown', 'Felix van Groeningen')\n",
      "(210, 'Captain America: The Winter Soldier', 'Anthony Russo')\n",
      "(211, 'Rockstar', 'Imtiaz Ali')\n",
      "(212, 'Nebraska', 'Alexander Payne')\n",
      "(213, 'Wreck-It Ralph', 'Rich Moore')\n",
      "(214, 'Le Petit Prince', 'Mark Osborne')\n",
      "(215, 'Detachment', 'Tony Kaye')\n",
      "(216, 'Midnight in Paris', 'Woody Allen')\n",
      "(217, 'The Lego Movie', 'Christopher Miller')\n",
      "(218, 'Star Trek Into Darkness', 'J.J. Abrams')\n",
      "(219, 'Beasts of No Nation', 'Cary Joji Fukunaga')\n",
      "(220, 'The Social Network', 'David Fincher')\n",
      "(221, 'X: First Class', 'Matthew Vaughn')\n",
      "(222, 'The Hangover', 'Todd Phillips')\n",
      "(223, 'Skyfall', 'Sam Mendes')\n",
      "(224, 'Silver Linings Playbook', 'David O. Russell')\n",
      "(225, 'Argo', 'Ben Affleck')\n",
      "(226, '(500) Days of Summer', 'Marc Webb')\n",
      "(227, 'Harry Potter and the Deathly Hallows: Part 1', 'David Yates')\n",
      "(228, 'Gake no ue no Ponyo', 'Hayao Miyazaki')\n",
      "(229, 'Frost/Nixon', 'Ron Howard')\n",
      "(230, 'Changeling', 'Clint Eastwood')\n",
      "(231, 'Flipped', 'Rob Reiner')\n",
      "(232, 'This Is England', 'Shane Meadows')\n",
      "(233, 'Ex Machina', 'Alex Garland')\n",
      "(234, 'Efter brylluppet', 'Susanne Bier')\n",
      "(235, 'The Last King of Scotland', 'Kevin Macdonald')\n",
      "(236, 'Zodiac', 'David Fincher')\n",
      "(237, 'Lost in Translation', 'Sofia Coppola')\n",
      "(238, 'Harry Potter and the Goblet of Fire', 'Mike Newell')\n",
      "(239, 'Man on Fire', 'Tony Scott')\n",
      "(240, 'Coraline', 'Henry Selick')\n",
      "(241, 'The Last Samurai', 'Edward Zwick')\n",
      "(242, 'The Magdalene Sisters', 'Peter Mullan')\n",
      "(243, 'In America', 'Jim Sheridan')\n",
      "(244, 'I Am Sam', 'Jessie Nelson')\n",
      "(245, 'Adaptation.', 'Spike Jonze')\n",
      "(246, 'Black Hawk Down', 'Ridley Scott')\n",
      "(247, 'Road to Perdition', 'Sam Mendes')\n",
      "(248, 'Das Experiment', 'Oliver Hirschbiegel')\n",
      "(249, 'Billy Elliot', 'Stephen Daldry')\n",
      "(250, 'Hedwig and the Angry Inch', 'John Cameron Mitchell')\n",
      "(251, \"Ocean's Eleven\", 'Steven Soderbergh')\n",
      "(252, 'Vampire Hunter D: Bloodlust', 'Yoshiaki Kawajiri')\n",
      "(253, 'O Brother, Where Art Thou?', 'Joel Coen')\n",
      "(254, 'Training Day', 'Antoine Fuqua')\n",
      "(255, 'Searching', 'Aneesh Chaganty')\n",
      "(256, 'Once Upon a Time... in Hollywood', 'Quentin Tarantino')\n",
      "(257, 'The Florida Project', 'Sean Baker')\n",
      "(258, 'Gifted', 'Marc Webb')\n",
      "(259, 'The Peanut Butter Falcon', 'Tyler Nilson')\n",
      "(260, 'Guardians of the Galaxy Vol. 2', 'James Gunn')\n",
      "(261, 'Baby Driver', 'Edgar Wright')\n",
      "(262, 'Only the Brave', 'Joseph Kosinski')\n",
      "(263, 'Bridge of Spies', 'Steven Spielberg')\n",
      "(264, 'Incredibles 2', 'Brad Bird')\n",
      "(265, 'Moana', 'Ron Clements')\n",
      "(266, 'Hell or High Water', 'David Mackenzie')\n",
      "(267, 'Philomena', 'Stephen Frears')\n",
      "(268, 'Dawn of the Planet of the Apes', 'Matt Reeves')\n",
      "(269, 'A Star Is Born', 'Bradley Cooper')\n",
      "(270, 'Despicable Me', 'Pierre Coffin')\n",
      "(271, '50/50', 'Jonathan Levine')\n",
      "(272, 'Sherlock Holmes', 'Guy Ritchie')\n",
      "(273, 'The Blind Side', 'John Lee Hancock')\n",
      "(274, 'The Visitor', 'Tom McCarthy')\n",
      "(275, 'Seven Pounds', 'Gabriele Muccino')\n",
      "(276, 'Eastern Promises', 'David Cronenberg')\n",
      "(277, 'Stardust', 'Matthew Vaughn')\n",
      "(278, 'The Secret of Kells', 'Tomm Moore')\n",
      "(279, 'Inside Man', 'Spike Lee')\n",
      "(280, 'Gone Baby Gone', 'Ben Affleck')\n",
      "(281, 'La Vie En Rose', 'Olivier Dahan')\n",
      "(282, 'Huo Yuan Jia', 'Ronny Yu')\n",
      "(283, 'The Illusionist', 'Neil Burger')\n",
      "(284, \"Dead Man's Shoes\", 'Shane Meadows')\n",
      "(285, 'Harry Potter and the Half-Blood Prince', 'David Yates')\n",
      "(286, '300', 'Zack Snyder')\n",
      "(287, 'Match Point', 'Woody Allen')\n",
      "(288, 'Watchmen', 'Zack Snyder')\n",
      "(289, 'Lord of War', 'Andrew Niccol')\n",
      "(290, 'Saw', 'James Wan')\n",
      "(291, 'Synecdoche, New York', 'Charlie Kaufman')\n",
      "(292, 'Mysterious Skin', 'Gregg Araki')\n",
      "(293, 'The Station Agent', 'Tom McCarthy')\n",
      "(294, 'Finding Neverland', 'Marc Forster')\n",
      "(295, '25th Hour', 'Spike Lee')\n",
      "(296, 'The Butterfly Effect', 'Eric Bress')\n",
      "(297, '28 Days Later...', 'Danny Boyle')\n",
      "(298, 'The Royal Tenenbaums', 'Wes Anderson')\n",
      "(299, 'Enemy at the Gates', 'Jean-Jacques Annaud')\n",
      "(300, 'Minority Report', 'Steven Spielberg')\n",
      "(301, 'American Psycho', 'Mary Harron')\n",
      "(302, 'The Imitation Game', 'Morten Tyldum')\n"
     ]
    }
   ],
   "source": [
    "# Read data\n",
    "cursor.execute(\"SELECT \"\n",
    "    \"movie_id, movie_title, director \"\n",
    "    \"FROM [dbo].[movies]\")\n",
    "rows = cursor.fetchall()\n",
    "\n",
    "# Print data\n",
    "for row in rows:\n",
    "    print(row)"
   ]
  },
  {
   "cell_type": "markdown",
   "metadata": {},
   "source": [
    "## Update a data row in the table"
   ]
  },
  {
   "cell_type": "code",
   "execution_count": 7,
   "metadata": {},
   "outputs": [
    {
     "name": "stdout",
     "output_type": "stream",
     "text": [
      "Updated 1 row(s) of data.\n"
     ]
    }
   ],
   "source": [
    "cursor.execute(\"UPDATE [dbo].[movies] \"\n",
    "    \"SET genre = ? \"\n",
    "    \"WHERE movie_title = ?\", \n",
    "    (\"Biography\", \"The Theory of Everything\"))\n",
    "\n",
    "print(\"Updated\",cursor.rowcount,\"row(s) of data.\")"
   ]
  },
  {
   "cell_type": "code",
   "execution_count": 8,
   "metadata": {},
   "outputs": [
    {
     "name": "stdout",
     "output_type": "stream",
     "text": [
      "(205, 'The Theory of Everything', 'Biography')\n"
     ]
    }
   ],
   "source": [
    "# Read data\n",
    "cursor.execute(\"SELECT \"\n",
    "    \"movie_id, movie_title, genre \"\n",
    "    \"FROM [dbo].[movies] \"\n",
    "    \"WHERE movie_title = ?\",\n",
    "    (\"The Theory of Everything\", ))\n",
    "rows = cursor.fetchall()\n",
    "print(rows[0])"
   ]
  },
  {
   "cell_type": "markdown",
   "metadata": {},
   "source": [
    "## Delete data"
   ]
  },
  {
   "cell_type": "code",
   "execution_count": 9,
   "metadata": {},
   "outputs": [
    {
     "name": "stdout",
     "output_type": "stream",
     "text": [
      "Deleted 2 row(s) of data.\n"
     ]
    }
   ],
   "source": [
    "cursor.execute(\"DELETE FROM [dbo].[movies] \"\n",
    "    \"WHERE genre = ?\", \n",
    "    (\"Horror\", ))\n",
    "print(\"Deleted\",cursor.rowcount,\"row(s) of data.\")"
   ]
  },
  {
   "cell_type": "markdown",
   "metadata": {},
   "source": [
    "## Order data"
   ]
  },
  {
   "cell_type": "code",
   "execution_count": 10,
   "metadata": {},
   "outputs": [
    {
     "name": "stdout",
     "output_type": "stream",
     "text": [
      "('Avatar', 2009, 'Action', 760507625)\n",
      "('Harry Potter and the Half-Blood Prince', 2009, 'Action', 301959197)\n",
      "('Star Trek', 2009, 'Action', 257730019)\n",
      "('Sherlock Holmes', 2009, 'Action', 209028679)\n",
      "('Watchmen', 2009, 'Action', 107509799)\n",
      "('Inception', 2010, 'Action', 292576195)\n",
      "('X: First Class', 2011, 'Action', 146408305)\n",
      "('Warrior', 2011, 'Action', 13657115)\n",
      "('The Avengers', 2012, 'Action', 623279547)\n",
      "('The Dark Knight Rises', 2012, 'Action', 448139099)\n",
      "('Skyfall', 2012, 'Action', 304360277)\n",
      "('Star Trek Into Darkness', 2013, 'Action', 228778661)\n",
      "('Rush', 2013, 'Action', 26947624)\n",
      "('Guardians of the Galaxy', 2014, 'Action', 333176600)\n",
      "('Captain America: The Winter Soldier', 2014, 'Action', 259766572)\n",
      "('X-Men: Days of Future Past', 2014, 'Action', 233921534)\n",
      "('Dawn of the Planet of the Apes', 2014, 'Action', 208545589)\n",
      "('Kingsman: The Secret Service', 2014, 'Action', 128261724)\n",
      "('Edge of Tomorrow', 2014, 'Action', 100206256)\n",
      "('Serbuan maut 2: Berandal', 2014, 'Action', 2625803)\n",
      "('Haider', 2014, 'Action', 90161)\n",
      "('Star Wars: Episode VII - The Force Awakens', 2015, 'Action', 936662225)\n",
      "('Mad Max: Fury Road', 2015, 'Action', 154058340)\n",
      "('Rogue One', 2016, 'Action', 532177324)\n",
      "('Captain America: Civil War', 2016, 'Action', 408084349)\n",
      "('Deadpool', 2016, 'Action', 363070709)\n",
      "('Hell or High Water', 2016, 'Action', 26862450)\n",
      "('Guardians of the Galaxy Vol. 2', 2017, 'Action', 389813101)\n",
      "('Thor: Ragnarok', 2017, 'Action', 315058289)\n",
      "('Logan', 2017, 'Action', 226277068)\n",
      "('Baby Driver', 2017, 'Action', 107825862)\n",
      "('Blade Runner 2049', 2017, 'Action', 92054159)\n",
      "('Only the Brave', 2017, 'Action', 18340051)\n",
      "('Avengers: Infinity War', 2018, 'Action', 678815482)\n",
      "('Deadpool 2', 2018, 'Action', 324591735)\n",
      "('Mission: Impossible - Fallout', 2018, 'Action', 220159104)\n",
      "('Avengers: Endgame', 2019, 'Action', 858373000)\n",
      "('Ford v Ferrari', 2019, 'Action', 117624028)\n"
     ]
    }
   ],
   "source": [
    "# Read data\n",
    "cursor.execute(\"SELECT movie_title, released_year, genre, gross \"\n",
    "    \"FROM [dbo].[movies] \"\n",
    "    \"WHERE genre = ? AND released_year BETWEEN ? AND ? \"\n",
    "    \"ORDER BY released_year ASC, gross DESC\",\n",
    "    (\"Action\", 2009, 2019))\n",
    "rows = cursor.fetchall()\n",
    "\n",
    "# Print data\n",
    "for row in rows:\n",
    "    print(row)"
   ]
  },
  {
   "cell_type": "markdown",
   "metadata": {},
   "source": [
    "## Use the *MAX()* function"
   ]
  },
  {
   "cell_type": "code",
   "execution_count": 11,
   "metadata": {},
   "outputs": [
    {
     "name": "stdout",
     "output_type": "stream",
     "text": [
      "(132384315,)\n"
     ]
    }
   ],
   "source": [
    "# Read data\n",
    "cursor.execute(\"SELECT MAX(gross) \"\n",
    "    \"FROM [dbo].[movies] \"\n",
    "    \"WHERE director = ? \",\n",
    "    (\"Martin Scorsese\", ))\n",
    "rows = cursor.fetchall()\n",
    "\n",
    "# Print data\n",
    "print(rows[0])"
   ]
  },
  {
   "cell_type": "markdown",
   "metadata": {},
   "source": [
    "## Close the connection"
   ]
  },
  {
   "cell_type": "code",
   "execution_count": 12,
   "metadata": {},
   "outputs": [],
   "source": [
    "conn.commit()\n",
    "cursor.close()\n",
    "conn.close()"
   ]
  }
 ],
 "metadata": {
  "kernelspec": {
   "display_name": "venv",
   "language": "python",
   "name": "python3"
  },
  "language_info": {
   "codemirror_mode": {
    "name": "ipython",
    "version": 3
   },
   "file_extension": ".py",
   "mimetype": "text/x-python",
   "name": "python",
   "nbconvert_exporter": "python",
   "pygments_lexer": "ipython3",
   "version": "3.12.4"
  },
  "orig_nbformat": 2
 },
 "nbformat": 4,
 "nbformat_minor": 2
}
